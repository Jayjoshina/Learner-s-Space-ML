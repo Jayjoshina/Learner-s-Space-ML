{
  "cells": [
    {
      "cell_type": "code",
      "execution_count": 1,
      "metadata": {
        "id": "Y1toYq3ICHi9"
      },
      "outputs": [],
      "source": [
        "import torch\n",
        "import torch.nn as nn\n",
        "import torch.optim\n",
        "from torch.utils.data import DataLoader\n",
        "from torchvision import transforms\n",
        "from torchvision.datasets import ImageFolder\n",
        "import numpy as np\n",
        "from sklearn.model_selection import train_test_split"
      ]
    },
    {
      "cell_type": "code",
      "execution_count": 2,
      "metadata": {
        "colab": {
          "base_uri": "https://localhost:8080/"
        },
        "id": "lqv7lI2cZz26",
        "outputId": "194e0f63-71fd-4a91-9e80-b3bf7d21c739"
      },
      "outputs": [
        {
          "output_type": "stream",
          "name": "stdout",
          "text": [
            "Mounted at /content/drive\n"
          ]
        }
      ],
      "source": [
        "from google.colab import drive\n",
        "drive.mount('/content/drive')"
      ]
    },
    {
      "cell_type": "code",
      "execution_count": 3,
      "metadata": {
        "id": "xYfeFfTpIDoc"
      },
      "outputs": [],
      "source": [
        "data=ImageFolder('/content/drive/MyDrive/train',transform=transforms.Compose([transforms.ToTensor(),transforms.Resize((64,64))]))\n"
      ]
    },
    {
      "cell_type": "code",
      "execution_count": 33,
      "metadata": {
        "id": "C0fsu5c9eQZh"
      },
      "outputs": [],
      "source": [
        "x_train,x_test=train_test_split(data,test_size=0.1)\n",
        "\n",
        "x_train=DataLoader(x_train,batch_size=32,shuffle=True)\n",
        "x_test=DataLoader(x_test,batch_size=27,shuffle=True)\n",
        "\n",
        "\n"
      ]
    },
    {
      "cell_type": "code",
      "execution_count": 82,
      "metadata": {
        "id": "E6eaRFzEx6KK"
      },
      "outputs": [],
      "source": [
        "class model(nn.Module):\n",
        "  def __init__(self):\n",
        "    super().__init__()\n",
        "    self.f=nn.Flatten()\n",
        "    self.l1=nn.Linear(12288,256)\n",
        "    self.b1=nn.BatchNorm1d(256)\n",
        "    self.l4=nn.Linear(256,128)\n",
        "    self.b3=nn.BatchNorm1d(128)\n",
        "    self.l2=nn.Linear(128,64)\n",
        "    self.b2=nn.BatchNorm1d(64)\n",
        "    self.l3=nn.Linear(64,2)\n",
        "    self.relu=nn.ReLU()\n",
        "  def forward(self,x):\n",
        "    x=self.f(x)\n",
        "    x=self.l1(x)\n",
        "    x=self.b1(x)\n",
        "    x=self.l4(x)\n",
        "    x=self.b3(x)\n",
        "    x=self.relu(x)\n",
        "    x=self.l2(x)\n",
        "    x=self.b2(x)\n",
        "    x=self.relu(x)\n",
        "    x=self.l3(x)\n",
        "    return x\n",
        "\n",
        "\n",
        "\n",
        "\n"
      ]
    },
    {
      "cell_type": "code",
      "execution_count": 103,
      "metadata": {
        "id": "A2vlKzid2gcq"
      },
      "outputs": [],
      "source": [
        "#device = torch.device('cuda')\n",
        "M=model()\n",
        "#M=M.to(device)\n",
        "lr=0.001\n",
        "loss=nn.CrossEntropyLoss()\n",
        "o=torch.optim.Adam(M.parameters(),lr)\n",
        "\n",
        "for i in range(30):\n",
        "  h=0\n",
        "  for j,(x,y) in enumerate(x_train):\n",
        "   # x=x.to(device)\n",
        "    #y=y.to(device)\n",
        "    y_pred=M(x)\n",
        "    #print(i,j)\n",
        "    l=loss(y_pred,y)\n",
        "    with torch.no_grad():\n",
        "       h+=l\n",
        "    o.zero_grad\n",
        "    l.backward()\n",
        "    o.step()\n",
        "  #print(h)\n"
      ]
    },
    {
      "cell_type": "code",
      "source": [
        "M.eval()\n",
        "acc=0\n",
        "with torch.no_grad():\n",
        "  for i,(x,y) in enumerate(x_test):\n",
        "    #x=x.to(device)\n",
        "    #y=y.to(device)\n",
        "    y_pred=M(x)\n",
        "    _,y_pred1=y_pred.max(axis=1)\n",
        "    acc+=((y_pred1==y).sum())\n",
        "print(acc/27)"
      ],
      "metadata": {
        "colab": {
          "base_uri": "https://localhost:8080/"
        },
        "id": "mGKCJ5yCBRd8",
        "outputId": "7f1dcba2-e49d-49bb-f411-6de31dcac957"
      },
      "execution_count": 104,
      "outputs": [
        {
          "output_type": "stream",
          "name": "stdout",
          "text": [
            "tensor(0.8148)\n"
          ]
        }
      ]
    }
  ],
  "metadata": {
    "accelerator": "GPU",
    "colab": {
      "gpuType": "T4",
      "provenance": []
    },
    "kernelspec": {
      "display_name": "Python 3",
      "name": "python3"
    },
    "language_info": {
      "name": "python"
    }
  },
  "nbformat": 4,
  "nbformat_minor": 0
}